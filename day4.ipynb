{
  "nbformat": 4,
  "nbformat_minor": 0,
  "metadata": {
    "colab": {
      "name": "day4.ipynb",
      "provenance": [],
      "collapsed_sections": [],
      "mount_file_id": "1cmc82IyB899z5YoS0TPGgFwSeXIzELGV",
      "authorship_tag": "ABX9TyMD2NyLdOmkUYPyH8ogR0Vp",
      "include_colab_link": true
    },
    "kernelspec": {
      "name": "python3",
      "display_name": "Python 3"
    },
    "accelerator": "GPU"
  },
  "cells": [
    {
      "cell_type": "markdown",
      "metadata": {
        "id": "view-in-github",
        "colab_type": "text"
      },
      "source": [
        "<a href=\"https://colab.research.google.com/github/mszzukowski/dw_matrix_rad_sign/blob/master/day4.ipynb\" target=\"_parent\"><img src=\"https://colab.research.google.com/assets/colab-badge.svg\" alt=\"Open In Colab\"/></a>"
      ]
    },
    {
      "cell_type": "code",
      "metadata": {
        "id": "tWUHdXigtcMx",
        "colab_type": "code",
        "colab": {}
      },
      "source": [
        "import pandas as pd\n",
        "import numpy as np\n",
        "\n",
        "import tensorflow as tf\n",
        "from tensorflow.keras.models import Sequential\n",
        "from tensorflow.keras.layers import Conv2D, MaxPool2D, Dense, Flatten, Dropout\n",
        "from tensorflow.keras.utils import to_categorical\n",
        "\n",
        "import os\n",
        "import datetime\n",
        "\n",
        "%load_ext tensorboard\n",
        "\n",
        "import matplotlib.pyplot as plt\n",
        "from skimage import color, exposure\n",
        "\n",
        "from sklearn.metrics import accuracy_score"
      ],
      "execution_count": 0,
      "outputs": []
    },
    {
      "cell_type": "code",
      "metadata": {
        "id": "wuPbYpFmuSA0",
        "colab_type": "code",
        "outputId": "d732871a-d043-4d2f-e7b1-c9598b20e1c3",
        "colab": {
          "base_uri": "https://localhost:8080/",
          "height": 34
        }
      },
      "source": [
        "cd '/content/drive/My Drive/Colab Notebooks/matrix/matrix_three/dw_matrix_rad_sign'"
      ],
      "execution_count": 2,
      "outputs": [
        {
          "output_type": "stream",
          "text": [
            "/content/drive/My Drive/Colab Notebooks/matrix/matrix_three/dw_matrix_rad_sign\n"
          ],
          "name": "stdout"
        }
      ]
    },
    {
      "cell_type": "code",
      "metadata": {
        "id": "rNzCczL9umOy",
        "colab_type": "code",
        "colab": {}
      },
      "source": [
        "train = pd.read_pickle('data/train.p')\n",
        "test = pd.read_pickle('data/test.p')\n",
        "\n",
        "X_train, y_train = train['features'], train['labels']\n",
        "X_test, y_test = test['features'], test['labels']"
      ],
      "execution_count": 0,
      "outputs": []
    },
    {
      "cell_type": "code",
      "metadata": {
        "id": "OEEDVN8iwRcM",
        "colab_type": "code",
        "colab": {}
      },
      "source": [
        "if y_train.ndim == 1: y_train = to_categorical(y_train)\n",
        "if y_test.ndim == 1: y_test = to_categorical(y_test)"
      ],
      "execution_count": 0,
      "outputs": []
    },
    {
      "cell_type": "code",
      "metadata": {
        "id": "_ZezZOr8yC-M",
        "colab_type": "code",
        "colab": {}
      },
      "source": [
        "input_shape = X_train.shape[1:]\n",
        "num_classes = y_train.shape[1]"
      ],
      "execution_count": 0,
      "outputs": []
    },
    {
      "cell_type": "code",
      "metadata": {
        "id": "-52v3BGeuomh",
        "colab_type": "code",
        "outputId": "3f72e8ed-8c69-470f-d634-a1c00e0993d2",
        "colab": {
          "base_uri": "https://localhost:8080/",
          "height": 51
        }
      },
      "source": [
        "model = Sequential([\n",
        "                    Conv2D(filters=64, kernel_size=(3,3), activation='relu', input_shape=input_shape),\n",
        "\n",
        "                    Flatten(),\n",
        "\n",
        "                    Dense(num_classes, activation='softmax'),\n",
        "])\n",
        "\n",
        "# model.summary()\n",
        "\n",
        "model.compile(loss='categorical_crossentropy', optimizer='Adam' ,metrics=['accuracy'])\n",
        "model.fit(X_train, y_train)"
      ],
      "execution_count": 6,
      "outputs": [
        {
          "output_type": "stream",
          "text": [
            "1088/1088 [==============================] - 4s 3ms/step - loss: 9.3992 - accuracy: 0.7725\n"
          ],
          "name": "stdout"
        },
        {
          "output_type": "execute_result",
          "data": {
            "text/plain": [
              "<tensorflow.python.keras.callbacks.History at 0x7f13603eca58>"
            ]
          },
          "metadata": {
            "tags": []
          },
          "execution_count": 6
        }
      ]
    },
    {
      "cell_type": "code",
      "metadata": {
        "id": "nh9P01cuwDQz",
        "colab_type": "code",
        "colab": {}
      },
      "source": [
        "def get_cnn_c1(input_shape, num_classes):\n",
        "  return Sequential([\n",
        "                    Conv2D(filters=64, kernel_size=(3,3), activation='relu', input_shape=input_shape),\n",
        "\n",
        "                    Flatten(),\n",
        "\n",
        "                    Dense(num_classes, activation='softmax'),\n",
        "  ])\n",
        "\n",
        "def train_model(model, X_train, y_train, params_fit={}):\n",
        "  model.compile(loss='categorical_crossentropy', optimizer='Adam' ,metrics=['accuracy'])\n",
        "\n",
        "  logdir = os.path.join('logs', datetime.datetime.now().strftime('%Y%m%d-%H%M%S'))\n",
        "  tensorboard_callback = tf.keras.callbacks.TensorBoard(logdir, histogram_freq=1)\n",
        "\n",
        "  model.fit(\n",
        "      X_train,\n",
        "      y_train,\n",
        "      batch_size=params_fit.get('batch_size', 128),\n",
        "      epochs=params_fit.get('epochs', 5),\n",
        "      verbose=params_fit.get('verbose', 1),\n",
        "      validation_data=params_fit.get('validation_data', (X_train, y_train)),\n",
        "      callbacks=[tensorboard_callback]\n",
        "    )\n",
        "\n",
        "  \n",
        "  return model"
      ],
      "execution_count": 0,
      "outputs": []
    },
    {
      "cell_type": "code",
      "metadata": {
        "id": "1aEaeSf00aYB",
        "colab_type": "code",
        "outputId": "ac4e58cf-c07c-4244-f20b-a85c681e9d7e",
        "colab": {
          "base_uri": "https://localhost:8080/",
          "height": 187
        }
      },
      "source": [
        "model = get_cnn_c1(input_shape, num_classes)\n",
        "model_trained = train_model(model, X_train, y_train)"
      ],
      "execution_count": 8,
      "outputs": [
        {
          "output_type": "stream",
          "text": [
            "Epoch 1/5\n",
            "272/272 [==============================] - 3s 12ms/step - loss: 37.8692 - accuracy: 0.7625 - val_loss: 0.2037 - val_accuracy: 0.9554\n",
            "Epoch 2/5\n",
            "272/272 [==============================] - 3s 11ms/step - loss: 0.1812 - accuracy: 0.9581 - val_loss: 0.1184 - val_accuracy: 0.9731\n",
            "Epoch 3/5\n",
            "272/272 [==============================] - 3s 11ms/step - loss: 0.0996 - accuracy: 0.9770 - val_loss: 0.0895 - val_accuracy: 0.9791\n",
            "Epoch 4/5\n",
            "272/272 [==============================] - 3s 11ms/step - loss: 0.0874 - accuracy: 0.9790 - val_loss: 0.0768 - val_accuracy: 0.9827\n",
            "Epoch 5/5\n",
            "272/272 [==============================] - 3s 11ms/step - loss: 0.1718 - accuracy: 0.9634 - val_loss: 0.0673 - val_accuracy: 0.9857\n"
          ],
          "name": "stdout"
        }
      ]
    },
    {
      "cell_type": "code",
      "metadata": {
        "id": "BfRCYmpmjd2l",
        "colab_type": "code",
        "colab": {}
      },
      "source": [
        "def predict(model_trained, X_test, y_test, scoring=accuracy_score):\n",
        "\n",
        "  y_test_norm = np.argmax(y_test, axis=1)\n",
        "\n",
        "  y_pred_prob = model_trained.predict(X_test)\n",
        "  y_pred = np.argmax(y_pred_prob, axis=1)\n",
        "\n",
        "  return scoring(y_test_norm, y_pred)"
      ],
      "execution_count": 0,
      "outputs": []
    },
    {
      "cell_type": "code",
      "metadata": {
        "id": "wSD8St_Xqda_",
        "colab_type": "code",
        "colab": {
          "base_uri": "https://localhost:8080/",
          "height": 34
        },
        "outputId": "0a14060e-6371-49aa-f31f-fe0de19dc213"
      },
      "source": [
        "predict(model_trained, X_test, y_test)"
      ],
      "execution_count": 10,
      "outputs": [
        {
          "output_type": "execute_result",
          "data": {
            "text/plain": [
              "0.8369614512471655"
            ]
          },
          "metadata": {
            "tags": []
          },
          "execution_count": 10
        }
      ]
    },
    {
      "cell_type": "code",
      "metadata": {
        "id": "k7FMDKdbqdRO",
        "colab_type": "code",
        "colab": {}
      },
      "source": [
        ""
      ],
      "execution_count": 0,
      "outputs": []
    },
    {
      "cell_type": "code",
      "metadata": {
        "id": "yuh9v7YCqdCs",
        "colab_type": "code",
        "colab": {}
      },
      "source": [
        ""
      ],
      "execution_count": 0,
      "outputs": []
    },
    {
      "cell_type": "code",
      "metadata": {
        "id": "KwKU9nqujdTe",
        "colab_type": "code",
        "colab": {}
      },
      "source": [
        "df = pd.read_csv('data/signnames.csv')\n",
        "labels_dict = df.to_dict()['b']"
      ],
      "execution_count": 0,
      "outputs": []
    },
    {
      "cell_type": "markdown",
      "metadata": {
        "id": "gUE7mSX6rAXa",
        "colab_type": "text"
      },
      "source": [
        "Archicture engenering"
      ]
    },
    {
      "cell_type": "code",
      "metadata": {
        "id": "XsfHE7mIr3Sm",
        "colab_type": "code",
        "colab": {}
      },
      "source": [
        "def train_and_predict(model):\n",
        "  model_trained = train_model(model, X_train, y_train)\n",
        "\n",
        "  return predict(model_trained, X_test, y_test)"
      ],
      "execution_count": 0,
      "outputs": []
    },
    {
      "cell_type": "code",
      "metadata": {
        "id": "0sachdiDkMFs",
        "colab_type": "code",
        "colab": {
          "base_uri": "https://localhost:8080/",
          "height": 204
        },
        "outputId": "465c395d-c951-4abf-f1b7-683f3b45caf5"
      },
      "source": [
        "def get_cnn_v2(input_shape, num_classes):\n",
        "  return Sequential([\n",
        "                    Conv2D(filters=32, kernel_size=(3,3), activation='relu', input_shape=input_shape),\n",
        "                    MaxPool2D(),\n",
        "                    Dropout(0.3),\n",
        "                     \n",
        "                    Conv2D(filters=64, kernel_size=(3,3), activation='relu'),\n",
        "                    MaxPool2D(),\n",
        "                    Dropout(0.3),\n",
        "\n",
        "                    Flatten(),\n",
        "                    \n",
        "                    Dense(1024, activation='relu'),\n",
        "                    Dropout(0.5),\n",
        "\n",
        "                    Dense(num_classes, activation='softmax'),\n",
        "  ])\n",
        "\n",
        "\n",
        "train_and_predict(get_cnn_v2(input_shape, num_classes))\n"
      ],
      "execution_count": 13,
      "outputs": [
        {
          "output_type": "stream",
          "text": [
            "Epoch 1/5\n",
            "272/272 [==============================] - 3s 11ms/step - loss: 6.5025 - accuracy: 0.1876 - val_loss: 2.3333 - val_accuracy: 0.3945\n",
            "Epoch 2/5\n",
            "272/272 [==============================] - 3s 10ms/step - loss: 2.0820 - accuracy: 0.4157 - val_loss: 1.2135 - val_accuracy: 0.6796\n",
            "Epoch 3/5\n",
            "272/272 [==============================] - 3s 11ms/step - loss: 1.2375 - accuracy: 0.6274 - val_loss: 0.5164 - val_accuracy: 0.8796\n",
            "Epoch 4/5\n",
            "272/272 [==============================] - 3s 11ms/step - loss: 0.7860 - accuracy: 0.7653 - val_loss: 0.2878 - val_accuracy: 0.9359\n",
            "Epoch 5/5\n",
            "272/272 [==============================] - 3s 11ms/step - loss: 0.5598 - accuracy: 0.8326 - val_loss: 0.1518 - val_accuracy: 0.9730\n"
          ],
          "name": "stdout"
        },
        {
          "output_type": "execute_result",
          "data": {
            "text/plain": [
              "0.8884353741496599"
            ]
          },
          "metadata": {
            "tags": []
          },
          "execution_count": 13
        }
      ]
    },
    {
      "cell_type": "code",
      "metadata": {
        "id": "UAz9OO2XkMDR",
        "colab_type": "code",
        "colab": {
          "base_uri": "https://localhost:8080/",
          "height": 204
        },
        "outputId": "1122a425-274f-452b-9d1d-5ca0ba9de2d7"
      },
      "source": [
        "def get_cnn_v3(input_shape, num_classes):\n",
        "  return Sequential([\n",
        "                    Conv2D(filters=32, kernel_size=(3,3), activation='relu', input_shape=input_shape),\n",
        "                    Conv2D(filters=32, kernel_size=(3,3), activation='relu'),\n",
        "                    MaxPool2D(),\n",
        "                    Dropout(0.3),\n",
        "                     \n",
        "                    Conv2D(filters=64, kernel_size=(3,3), activation='relu'),\n",
        "                    Conv2D(filters=64, kernel_size=(3,3), activation='relu'),\n",
        "                    MaxPool2D(),\n",
        "                    Dropout(0.3),\n",
        "\n",
        "                    Flatten(),\n",
        "                    \n",
        "                    Dense(1024, activation='relu'),\n",
        "                    Dropout(0.5),\n",
        "\n",
        "                    Dense(num_classes, activation='softmax'),\n",
        "  ])\n",
        "\n",
        "\n",
        "train_and_predict(get_cnn_v3(input_shape, num_classes))"
      ],
      "execution_count": 14,
      "outputs": [
        {
          "output_type": "stream",
          "text": [
            "Epoch 1/5\n",
            "272/272 [==============================] - 4s 16ms/step - loss: 2.7207 - accuracy: 0.4060 - val_loss: 0.5357 - val_accuracy: 0.8790\n",
            "Epoch 2/5\n",
            "272/272 [==============================] - 4s 15ms/step - loss: 0.6514 - accuracy: 0.8091 - val_loss: 0.1973 - val_accuracy: 0.9597\n",
            "Epoch 3/5\n",
            "272/272 [==============================] - 4s 15ms/step - loss: 0.3344 - accuracy: 0.9042 - val_loss: 0.0736 - val_accuracy: 0.9860\n",
            "Epoch 4/5\n",
            "272/272 [==============================] - 4s 15ms/step - loss: 0.2099 - accuracy: 0.9395 - val_loss: 0.0345 - val_accuracy: 0.9916\n",
            "Epoch 5/5\n",
            "272/272 [==============================] - 4s 15ms/step - loss: 0.1587 - accuracy: 0.9533 - val_loss: 0.0249 - val_accuracy: 0.9930\n"
          ],
          "name": "stdout"
        },
        {
          "output_type": "execute_result",
          "data": {
            "text/plain": [
              "0.9675736961451247"
            ]
          },
          "metadata": {
            "tags": []
          },
          "execution_count": 14
        }
      ]
    },
    {
      "cell_type": "code",
      "metadata": {
        "id": "Hq79EclwkL9K",
        "colab_type": "code",
        "colab": {}
      },
      "source": [
        ""
      ],
      "execution_count": 0,
      "outputs": []
    },
    {
      "cell_type": "code",
      "metadata": {
        "colab_type": "code",
        "outputId": "f283b790-fdb1-455a-ffe4-e7c52b4f329e",
        "id": "-XV-zfBoMIO1",
        "colab": {
          "base_uri": "https://localhost:8080/",
          "height": 204
        }
      },
      "source": [
        "def get_cnn_v4(input_shape, num_classes):\n",
        "  return Sequential([\n",
        "                    Conv2D(filters=32, kernel_size=(3,3), activation='relu', input_shape=input_shape),\n",
        "                    Conv2D(filters=32, kernel_size=(3,3), activation='relu', padding='same'),\n",
        "                    MaxPool2D(),\n",
        "                    Dropout(0.3),\n",
        "                     \n",
        "                    Conv2D(filters=64, kernel_size=(3,3), activation='relu', padding='same'),\n",
        "                    Conv2D(filters=64, kernel_size=(3,3), activation='relu'),\n",
        "                    MaxPool2D(),\n",
        "                    Dropout(0.3),\n",
        "                     \n",
        "                    Conv2D(filters=64, kernel_size=(3,3), activation='relu', padding='same'),\n",
        "                    Conv2D(filters=64, kernel_size=(3,3), activation='relu'),\n",
        "                    MaxPool2D(),\n",
        "                    Dropout(0.3),\n",
        "\n",
        "                    Flatten(),\n",
        "                    \n",
        "                    Dense(1024, activation='relu'),\n",
        "                    Dropout(0.5),\n",
        "\n",
        "                    Dense(num_classes, activation='softmax'),\n",
        "  ])\n",
        "\n",
        "\n",
        "train_and_predict(get_cnn_v4(input_shape, num_classes))"
      ],
      "execution_count": 15,
      "outputs": [
        {
          "output_type": "stream",
          "text": [
            "Epoch 1/5\n",
            "272/272 [==============================] - 5s 18ms/step - loss: 2.9843 - accuracy: 0.2079 - val_loss: 1.5616 - val_accuracy: 0.4747\n",
            "Epoch 2/5\n",
            "272/272 [==============================] - 5s 17ms/step - loss: 1.3508 - accuracy: 0.5653 - val_loss: 0.3858 - val_accuracy: 0.8883\n",
            "Epoch 3/5\n",
            "272/272 [==============================] - 5s 17ms/step - loss: 0.5631 - accuracy: 0.8232 - val_loss: 0.1169 - val_accuracy: 0.9684\n",
            "Epoch 4/5\n",
            "272/272 [==============================] - 5s 17ms/step - loss: 0.3203 - accuracy: 0.9006 - val_loss: 0.0622 - val_accuracy: 0.9810\n",
            "Epoch 5/5\n",
            "272/272 [==============================] - 5s 17ms/step - loss: 0.2275 - accuracy: 0.9314 - val_loss: 0.0391 - val_accuracy: 0.9902\n"
          ],
          "name": "stdout"
        },
        {
          "output_type": "execute_result",
          "data": {
            "text/plain": [
              "0.971655328798186"
            ]
          },
          "metadata": {
            "tags": []
          },
          "execution_count": 15
        }
      ]
    },
    {
      "cell_type": "code",
      "metadata": {
        "id": "vAJY9TskjdEC",
        "colab_type": "code",
        "colab": {}
      },
      "source": [
        ""
      ],
      "execution_count": 0,
      "outputs": []
    },
    {
      "cell_type": "code",
      "metadata": {
        "colab_type": "code",
        "outputId": "fead3457-f31e-4a94-dc05-ae4fbcc9124c",
        "id": "iihVNqWbMxTc",
        "colab": {
          "base_uri": "https://localhost:8080/",
          "height": 204
        }
      },
      "source": [
        "def get_cnn_v5(input_shape, num_classes):\n",
        "  return Sequential([\n",
        "                    Conv2D(filters=32, kernel_size=(3,3), activation='relu', input_shape=input_shape),\n",
        "                    Conv2D(filters=32, kernel_size=(3,3), activation='relu', padding='same'),\n",
        "                    MaxPool2D(),\n",
        "                    Dropout(0.3),\n",
        "                     \n",
        "                    Conv2D(filters=64, kernel_size=(3,3), activation='relu', padding='same'),\n",
        "                    Conv2D(filters=64, kernel_size=(3,3), activation='relu'),\n",
        "                    MaxPool2D(),\n",
        "                    Dropout(0.3),\n",
        "                     \n",
        "                    Conv2D(filters=64, kernel_size=(3,3), activation='relu', padding='same'),\n",
        "                    Conv2D(filters=64, kernel_size=(3,3), activation='relu'),\n",
        "                    MaxPool2D(),\n",
        "                    Dropout(0.3),\n",
        "\n",
        "                    Flatten(),\n",
        "                    \n",
        "                    Dense(1024, activation='relu'),\n",
        "                    Dropout(0.3),\n",
        "\n",
        "                    Dense(1024, activation='relu'),\n",
        "                    Dropout(0.3),\n",
        "\n",
        "                    Dense(num_classes, activation='softmax'),\n",
        "  ])\n",
        "\n",
        "\n",
        "train_and_predict(get_cnn_v5(input_shape, num_classes))"
      ],
      "execution_count": 17,
      "outputs": [
        {
          "output_type": "stream",
          "text": [
            "Epoch 1/5\n",
            "272/272 [==============================] - 5s 18ms/step - loss: 2.8608 - accuracy: 0.2389 - val_loss: 1.1017 - val_accuracy: 0.6594\n",
            "Epoch 2/5\n",
            "272/272 [==============================] - 5s 18ms/step - loss: 0.9525 - accuracy: 0.7024 - val_loss: 0.2406 - val_accuracy: 0.9280\n",
            "Epoch 3/5\n",
            "272/272 [==============================] - 5s 18ms/step - loss: 0.4225 - accuracy: 0.8697 - val_loss: 0.1043 - val_accuracy: 0.9718\n",
            "Epoch 4/5\n",
            "272/272 [==============================] - 5s 18ms/step - loss: 0.2816 - accuracy: 0.9165 - val_loss: 0.0480 - val_accuracy: 0.9866\n",
            "Epoch 5/5\n",
            "272/272 [==============================] - 5s 18ms/step - loss: 0.1939 - accuracy: 0.9442 - val_loss: 0.0459 - val_accuracy: 0.9854\n"
          ],
          "name": "stdout"
        },
        {
          "output_type": "execute_result",
          "data": {
            "text/plain": [
              "0.9530612244897959"
            ]
          },
          "metadata": {
            "tags": []
          },
          "execution_count": 17
        }
      ]
    },
    {
      "cell_type": "code",
      "metadata": {
        "id": "J9cUCNtLNU0x",
        "colab_type": "code",
        "colab": {}
      },
      "source": [
        "X_train_gray = color.rgb2gray( X_train).reshape(-1, 32, 32, 1)\n",
        "X_test_gray = color.rgb2gray( X_test).reshape(-1, 32, 32, 1)"
      ],
      "execution_count": 0,
      "outputs": []
    },
    {
      "cell_type": "code",
      "metadata": {
        "id": "BGAXHDmvNUnw",
        "colab_type": "code",
        "colab": {
          "base_uri": "https://localhost:8080/",
          "height": 901
        },
        "outputId": "2f488e3e-cb55-44e9-ce13-94b1406d80a7"
      },
      "source": [
        "model = get_cnn_v5((32,32,1), num_classes)\n",
        "params_fit = {\n",
        "    'epochs': 25\n",
        "}\n",
        "model_trained = train_model(model, X_train_gray, y_train, params_fit)\n",
        "predict(model_trained, X_test_gray, y_test)"
      ],
      "execution_count": 27,
      "outputs": [
        {
          "output_type": "stream",
          "text": [
            "ERROR! Session/line number was not unique in database. History logging moved to new session 59\n",
            "Epoch 1/25\n",
            "272/272 [==============================] - 5s 19ms/step - loss: 2.7747 - accuracy: 0.2273 - val_loss: 0.7612 - val_accuracy: 0.7461\n",
            "Epoch 2/25\n",
            "272/272 [==============================] - 5s 18ms/step - loss: 0.5650 - accuracy: 0.8131 - val_loss: 0.1240 - val_accuracy: 0.9666\n",
            "Epoch 3/25\n",
            "272/272 [==============================] - 5s 18ms/step - loss: 0.2366 - accuracy: 0.9243 - val_loss: 0.0575 - val_accuracy: 0.9824\n",
            "Epoch 4/25\n",
            "272/272 [==============================] - 5s 18ms/step - loss: 0.1503 - accuracy: 0.9534 - val_loss: 0.0298 - val_accuracy: 0.9922\n",
            "Epoch 5/25\n",
            "272/272 [==============================] - 5s 18ms/step - loss: 0.1161 - accuracy: 0.9634 - val_loss: 0.0240 - val_accuracy: 0.9936\n",
            "Epoch 6/25\n",
            "272/272 [==============================] - 5s 18ms/step - loss: 0.0947 - accuracy: 0.9706 - val_loss: 0.0194 - val_accuracy: 0.9943\n",
            "Epoch 7/25\n",
            "272/272 [==============================] - 5s 18ms/step - loss: 0.0768 - accuracy: 0.9760 - val_loss: 0.0116 - val_accuracy: 0.9964\n",
            "Epoch 8/25\n",
            "272/272 [==============================] - 5s 18ms/step - loss: 0.0673 - accuracy: 0.9792 - val_loss: 0.0106 - val_accuracy: 0.9968\n",
            "Epoch 9/25\n",
            "272/272 [==============================] - 5s 18ms/step - loss: 0.0714 - accuracy: 0.9775 - val_loss: 0.0082 - val_accuracy: 0.9982\n",
            "Epoch 10/25\n",
            "272/272 [==============================] - 5s 18ms/step - loss: 0.0609 - accuracy: 0.9807 - val_loss: 0.0073 - val_accuracy: 0.9981\n",
            "Epoch 11/25\n",
            "272/272 [==============================] - 5s 18ms/step - loss: 0.0557 - accuracy: 0.9827 - val_loss: 0.0061 - val_accuracy: 0.9985\n",
            "Epoch 12/25\n",
            "272/272 [==============================] - 5s 18ms/step - loss: 0.0553 - accuracy: 0.9832 - val_loss: 0.0053 - val_accuracy: 0.9985\n",
            "Epoch 13/25\n",
            "272/272 [==============================] - 5s 18ms/step - loss: 0.0505 - accuracy: 0.9849 - val_loss: 0.0047 - val_accuracy: 0.9987\n",
            "Epoch 14/25\n",
            "272/272 [==============================] - 5s 18ms/step - loss: 0.0502 - accuracy: 0.9852 - val_loss: 0.0083 - val_accuracy: 0.9978\n",
            "Epoch 15/25\n",
            "272/272 [==============================] - 5s 18ms/step - loss: 0.0479 - accuracy: 0.9858 - val_loss: 0.0037 - val_accuracy: 0.9991\n",
            "Epoch 16/25\n",
            "272/272 [==============================] - 5s 18ms/step - loss: 0.0437 - accuracy: 0.9866 - val_loss: 0.0040 - val_accuracy: 0.9988\n",
            "Epoch 17/25\n",
            "272/272 [==============================] - 5s 17ms/step - loss: 0.0446 - accuracy: 0.9869 - val_loss: 0.0045 - val_accuracy: 0.9986\n",
            "Epoch 18/25\n",
            "272/272 [==============================] - 5s 17ms/step - loss: 0.0387 - accuracy: 0.9879 - val_loss: 0.0026 - val_accuracy: 0.9993\n",
            "Epoch 19/25\n",
            "272/272 [==============================] - 5s 18ms/step - loss: 0.0377 - accuracy: 0.9891 - val_loss: 0.0056 - val_accuracy: 0.9984\n",
            "Epoch 20/25\n",
            "272/272 [==============================] - 5s 18ms/step - loss: 0.0400 - accuracy: 0.9882 - val_loss: 0.0023 - val_accuracy: 0.9994\n",
            "Epoch 21/25\n",
            "272/272 [==============================] - 5s 18ms/step - loss: 0.0468 - accuracy: 0.9872 - val_loss: 0.0024 - val_accuracy: 0.9994\n",
            "Epoch 22/25\n",
            "272/272 [==============================] - 5s 18ms/step - loss: 0.0358 - accuracy: 0.9895 - val_loss: 0.0042 - val_accuracy: 0.9990\n",
            "Epoch 23/25\n",
            "272/272 [==============================] - 5s 18ms/step - loss: 0.0345 - accuracy: 0.9896 - val_loss: 0.0031 - val_accuracy: 0.9991\n",
            "Epoch 24/25\n",
            "272/272 [==============================] - 5s 18ms/step - loss: 0.0365 - accuracy: 0.9892 - val_loss: 0.0032 - val_accuracy: 0.9990\n",
            "Epoch 25/25\n",
            "272/272 [==============================] - 5s 18ms/step - loss: 0.0387 - accuracy: 0.9897 - val_loss: 0.0031 - val_accuracy: 0.9990\n"
          ],
          "name": "stdout"
        },
        {
          "output_type": "execute_result",
          "data": {
            "text/plain": [
              "0.9836734693877551"
            ]
          },
          "metadata": {
            "tags": []
          },
          "execution_count": 27
        }
      ]
    },
    {
      "cell_type": "code",
      "metadata": {
        "id": "sGw2l7H8NUbu",
        "colab_type": "code",
        "colab": {}
      },
      "source": [
        ""
      ],
      "execution_count": 0,
      "outputs": []
    },
    {
      "cell_type": "code",
      "metadata": {
        "id": "fdqbxO2_NT9c",
        "colab_type": "code",
        "colab": {}
      },
      "source": [
        ""
      ],
      "execution_count": 0,
      "outputs": []
    },
    {
      "cell_type": "code",
      "metadata": {
        "id": "fNIj-0zQNT0E",
        "colab_type": "code",
        "colab": {}
      },
      "source": [
        ""
      ],
      "execution_count": 0,
      "outputs": []
    },
    {
      "cell_type": "code",
      "metadata": {
        "id": "-296okqWNToy",
        "colab_type": "code",
        "colab": {}
      },
      "source": [
        ""
      ],
      "execution_count": 0,
      "outputs": []
    },
    {
      "cell_type": "code",
      "metadata": {
        "id": "yXctQUEGNTUf",
        "colab_type": "code",
        "colab": {}
      },
      "source": [
        ""
      ],
      "execution_count": 0,
      "outputs": []
    },
    {
      "cell_type": "code",
      "metadata": {
        "id": "7KZFJVk80vFw",
        "colab_type": "code",
        "colab": {}
      },
      "source": [
        "# %tensorboard --logdir logs"
      ],
      "execution_count": 0,
      "outputs": []
    },
    {
      "cell_type": "code",
      "metadata": {
        "id": "oyWN154Y5ZHf",
        "colab_type": "code",
        "outputId": "ffa698d2-e8c2-4a2b-ef1f-df7d6122d415",
        "colab": {
          "base_uri": "https://localhost:8080/",
          "height": 867
        }
      },
      "source": [
        "model = get_cnn_c2(input_shape, num_classes)\n",
        "params_fit = {\n",
        "    'epochs': 25\n",
        "}\n",
        "logdir = train_model(model, X_train, y_train, params_fit)"
      ],
      "execution_count": 11,
      "outputs": [
        {
          "output_type": "stream",
          "text": [
            "Epoch 1/25\n",
            "272/272 [==============================] - 3s 12ms/step - loss: 6.9235 - accuracy: 0.1881 - val_loss: 1.9751 - val_accuracy: 0.4685\n",
            "Epoch 2/25\n",
            "272/272 [==============================] - 3s 11ms/step - loss: 1.5860 - accuracy: 0.5381 - val_loss: 0.7257 - val_accuracy: 0.8076\n",
            "Epoch 3/25\n",
            "272/272 [==============================] - 3s 11ms/step - loss: 0.9363 - accuracy: 0.7175 - val_loss: 0.3460 - val_accuracy: 0.9129\n",
            "Epoch 4/25\n",
            "272/272 [==============================] - 3s 11ms/step - loss: 0.6591 - accuracy: 0.7964 - val_loss: 0.2092 - val_accuracy: 0.9502\n",
            "Epoch 5/25\n",
            "272/272 [==============================] - 3s 11ms/step - loss: 0.5192 - accuracy: 0.8400 - val_loss: 0.1699 - val_accuracy: 0.9576\n",
            "Epoch 6/25\n",
            "272/272 [==============================] - 3s 11ms/step - loss: 0.4311 - accuracy: 0.8649 - val_loss: 0.1133 - val_accuracy: 0.9710\n",
            "Epoch 7/25\n",
            "272/272 [==============================] - 3s 11ms/step - loss: 0.3826 - accuracy: 0.8805 - val_loss: 0.0910 - val_accuracy: 0.9787\n",
            "Epoch 8/25\n",
            "272/272 [==============================] - 3s 11ms/step - loss: 0.3409 - accuracy: 0.8951 - val_loss: 0.0651 - val_accuracy: 0.9830\n",
            "Epoch 9/25\n",
            "272/272 [==============================] - 3s 10ms/step - loss: 0.3001 - accuracy: 0.9075 - val_loss: 0.0540 - val_accuracy: 0.9861\n",
            "Epoch 10/25\n",
            "272/272 [==============================] - 3s 11ms/step - loss: 0.2808 - accuracy: 0.9125 - val_loss: 0.0479 - val_accuracy: 0.9877\n",
            "Epoch 11/25\n",
            "272/272 [==============================] - 3s 11ms/step - loss: 0.2731 - accuracy: 0.9170 - val_loss: 0.0580 - val_accuracy: 0.9862\n",
            "Epoch 12/25\n",
            "272/272 [==============================] - 3s 11ms/step - loss: 0.2487 - accuracy: 0.9235 - val_loss: 0.0403 - val_accuracy: 0.9896\n",
            "Epoch 13/25\n",
            "272/272 [==============================] - 3s 11ms/step - loss: 0.2549 - accuracy: 0.9244 - val_loss: 0.0389 - val_accuracy: 0.9897\n",
            "Epoch 14/25\n",
            "272/272 [==============================] - 3s 11ms/step - loss: 0.2293 - accuracy: 0.9308 - val_loss: 0.0309 - val_accuracy: 0.9918\n",
            "Epoch 15/25\n",
            "272/272 [==============================] - 3s 11ms/step - loss: 0.2408 - accuracy: 0.9271 - val_loss: 0.0322 - val_accuracy: 0.9924\n",
            "Epoch 16/25\n",
            "272/272 [==============================] - 3s 11ms/step - loss: 0.2270 - accuracy: 0.9343 - val_loss: 0.0260 - val_accuracy: 0.9939\n",
            "Epoch 17/25\n",
            "272/272 [==============================] - 3s 11ms/step - loss: 0.2224 - accuracy: 0.9345 - val_loss: 0.0273 - val_accuracy: 0.9911\n",
            "Epoch 18/25\n",
            "272/272 [==============================] - 3s 11ms/step - loss: 0.2315 - accuracy: 0.9340 - val_loss: 0.0359 - val_accuracy: 0.9921\n",
            "Epoch 19/25\n",
            "272/272 [==============================] - 3s 11ms/step - loss: 0.2337 - accuracy: 0.9345 - val_loss: 0.0308 - val_accuracy: 0.9919\n",
            "Epoch 20/25\n",
            "272/272 [==============================] - 3s 11ms/step - loss: 0.2218 - accuracy: 0.9365 - val_loss: 0.0192 - val_accuracy: 0.9953\n",
            "Epoch 21/25\n",
            "272/272 [==============================] - 3s 11ms/step - loss: 0.2143 - accuracy: 0.9399 - val_loss: 0.0200 - val_accuracy: 0.9943\n",
            "Epoch 22/25\n",
            "272/272 [==============================] - 3s 11ms/step - loss: 0.2186 - accuracy: 0.9392 - val_loss: 0.0182 - val_accuracy: 0.9951\n",
            "Epoch 23/25\n",
            "272/272 [==============================] - 3s 11ms/step - loss: 0.2063 - accuracy: 0.9420 - val_loss: 0.0165 - val_accuracy: 0.9948\n",
            "Epoch 24/25\n",
            "272/272 [==============================] - 3s 11ms/step - loss: 0.2243 - accuracy: 0.9390 - val_loss: 0.0212 - val_accuracy: 0.9940\n",
            "Epoch 25/25\n",
            "272/272 [==============================] - 3s 11ms/step - loss: 0.2253 - accuracy: 0.9408 - val_loss: 0.0196 - val_accuracy: 0.9956\n"
          ],
          "name": "stdout"
        }
      ]
    },
    {
      "cell_type": "code",
      "metadata": {
        "id": "L4C0K1SL6TjY",
        "colab_type": "code",
        "colab": {}
      },
      "source": [
        ""
      ],
      "execution_count": 0,
      "outputs": []
    }
  ]
}